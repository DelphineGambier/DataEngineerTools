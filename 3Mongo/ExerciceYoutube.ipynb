{
 "cells": [
  {
   "cell_type": "markdown",
   "metadata": {},
   "source": [
    "# Consignes\n",
    "\n",
    "Intégrer le fichier USvideos.csv qui représente un ensemble de 8000 vidéos Youtube. \n",
    "\n",
    "Merger le fichier US_category_id.json pour récupérer le nom des catégories. Il conviendra de bien spécifier l'ID du document.\n",
    "\n",
    "\n",
    "# Questions \n",
    "- 1) Récupérer toutes les vidéos de la chaîne Apple.\n",
    "- 2) Compter le nombre de catégories différentes\n",
    "- 3) Si vous ne l'avez pas déjà fait, découper les tags en listes et mettre à jour les tags de chacun des documents avec une requête update.\n",
    "- 4) Récupérer les vidéos les plus vues.\n",
    "- 5) Compter le nombre moyen de vues en fonction de la catégorie.\n",
    "- 6) Récupérer les chaines Youtube avec la plus grande moyenne de likes."
   ]
  },
  {
   "cell_type": "code",
   "execution_count": 3,
   "metadata": {},
   "outputs": [],
   "source": [
    "import pandas as pd\n",
    "import pymongo\n",
    "import pprint"
   ]
  },
  {
   "cell_type": "code",
   "execution_count": 4,
   "metadata": {},
   "outputs": [],
   "source": [
    "client = pymongo.MongoClient('mongodb://mongo:27017')\n",
    "database = client['exercices']\n",
    "collection = database['youtube']"
   ]
  },
  {
   "cell_type": "code",
   "execution_count": 5,
   "metadata": {},
   "outputs": [
    {
     "data": {
      "text/html": [
       "<div>\n",
       "<style scoped>\n",
       "    .dataframe tbody tr th:only-of-type {\n",
       "        vertical-align: middle;\n",
       "    }\n",
       "\n",
       "    .dataframe tbody tr th {\n",
       "        vertical-align: top;\n",
       "    }\n",
       "\n",
       "    .dataframe thead th {\n",
       "        text-align: right;\n",
       "    }\n",
       "</style>\n",
       "<table border=\"1\" class=\"dataframe\">\n",
       "  <thead>\n",
       "    <tr style=\"text-align: right;\">\n",
       "      <th></th>\n",
       "      <th>video_id</th>\n",
       "      <th>title</th>\n",
       "      <th>channel_title</th>\n",
       "      <th>category_id</th>\n",
       "      <th>tags</th>\n",
       "      <th>views</th>\n",
       "      <th>likes</th>\n",
       "      <th>dislikes</th>\n",
       "      <th>comment_total</th>\n",
       "      <th>thumbnail_link</th>\n",
       "      <th>date</th>\n",
       "    </tr>\n",
       "  </thead>\n",
       "  <tbody>\n",
       "    <tr>\n",
       "      <th>0</th>\n",
       "      <td>XpVt6Z1Gjjo</td>\n",
       "      <td>1 YEAR OF VLOGGING -- HOW LOGAN PAUL CHANGED Y...</td>\n",
       "      <td>Logan Paul Vlogs</td>\n",
       "      <td>24</td>\n",
       "      <td>logan paul vlog|logan paul|logan|paul|olympics...</td>\n",
       "      <td>4394029</td>\n",
       "      <td>320053</td>\n",
       "      <td>5931</td>\n",
       "      <td>46245</td>\n",
       "      <td>https://i.ytimg.com/vi/XpVt6Z1Gjjo/default.jpg</td>\n",
       "      <td>13.09</td>\n",
       "    </tr>\n",
       "    <tr>\n",
       "      <th>1</th>\n",
       "      <td>K4wEI5zhHB0</td>\n",
       "      <td>iPhone X — Introducing iPhone X — Apple</td>\n",
       "      <td>Apple</td>\n",
       "      <td>28</td>\n",
       "      <td>Apple|iPhone 10|iPhone Ten|iPhone|Portrait Lig...</td>\n",
       "      <td>7860119</td>\n",
       "      <td>185853</td>\n",
       "      <td>26679</td>\n",
       "      <td>0</td>\n",
       "      <td>https://i.ytimg.com/vi/K4wEI5zhHB0/default.jpg</td>\n",
       "      <td>13.09</td>\n",
       "    </tr>\n",
       "  </tbody>\n",
       "</table>\n",
       "</div>"
      ],
      "text/plain": [
       "      video_id                                              title  \\\n",
       "0  XpVt6Z1Gjjo  1 YEAR OF VLOGGING -- HOW LOGAN PAUL CHANGED Y...   \n",
       "1  K4wEI5zhHB0            iPhone X — Introducing iPhone X — Apple   \n",
       "\n",
       "      channel_title  category_id  \\\n",
       "0  Logan Paul Vlogs           24   \n",
       "1             Apple           28   \n",
       "\n",
       "                                                tags    views   likes  \\\n",
       "0  logan paul vlog|logan paul|logan|paul|olympics...  4394029  320053   \n",
       "1  Apple|iPhone 10|iPhone Ten|iPhone|Portrait Lig...  7860119  185853   \n",
       "\n",
       "   dislikes  comment_total                                  thumbnail_link  \\\n",
       "0      5931          46245  https://i.ytimg.com/vi/XpVt6Z1Gjjo/default.jpg   \n",
       "1     26679              0  https://i.ytimg.com/vi/K4wEI5zhHB0/default.jpg   \n",
       "\n",
       "    date  \n",
       "0  13.09  \n",
       "1  13.09  "
      ]
     },
     "execution_count": 5,
     "metadata": {},
     "output_type": "execute_result"
    }
   ],
   "source": [
    "df_youtube = pd.read_csv(\"./data/USvideos.csv\")\n",
    "df_youtube.head(2)"
   ]
  },
  {
   "cell_type": "markdown",
   "metadata": {},
   "source": [
    "## Question 0"
   ]
  },
  {
   "cell_type": "markdown",
   "metadata": {},
   "source": [
    "### Netoyer les données"
   ]
  },
  {
   "cell_type": "code",
   "execution_count": 6,
   "metadata": {},
   "outputs": [],
   "source": [
    "df_category=pd.read_csv(\"./data/USvideos.csv\")"
   ]
  },
  {
   "cell_type": "code",
   "execution_count": null,
   "metadata": {},
   "outputs": [],
   "source": []
  },
  {
   "cell_type": "markdown",
   "metadata": {
    "slideshow": {
     "slide_type": "slide"
    }
   },
   "source": [
    "### Importer les données"
   ]
  },
  {
   "cell_type": "code",
   "execution_count": 15,
   "metadata": {},
   "outputs": [
    {
     "name": "stdout",
     "output_type": "stream",
     "text": [
      "Collecting jsonmerge\n",
      "  Downloading jsonmerge-1.7.0.tar.gz (24 kB)\n",
      "Requirement already satisfied: jsonschema in /root/.local/share/virtualenvs/code-AFz48Hjb/lib/python3.8/site-packages (from jsonmerge) (3.2.0)\n",
      "Requirement already satisfied: attrs>=17.4.0 in /root/.local/share/virtualenvs/code-AFz48Hjb/lib/python3.8/site-packages (from jsonschema->jsonmerge) (20.3.0)\n",
      "Requirement already satisfied: six>=1.11.0 in /root/.local/share/virtualenvs/code-AFz48Hjb/lib/python3.8/site-packages (from jsonschema->jsonmerge) (1.15.0)\n",
      "Requirement already satisfied: setuptools in /root/.local/share/virtualenvs/code-AFz48Hjb/lib/python3.8/site-packages (from jsonschema->jsonmerge) (50.3.2)\n",
      "Requirement already satisfied: pyrsistent>=0.14.0 in /root/.local/share/virtualenvs/code-AFz48Hjb/lib/python3.8/site-packages (from jsonschema->jsonmerge) (0.17.3)\n",
      "Building wheels for collected packages: jsonmerge\n",
      "  Building wheel for jsonmerge (setup.py) ... \u001b[?25ldone\n",
      "\u001b[?25h  Created wheel for jsonmerge: filename=jsonmerge-1.7.0-py3-none-any.whl size=16739 sha256=2660fb1f345ed09a488d0ddabd85facaa68da7fdcdb506a0dbf8419af47aa72f\n",
      "  Stored in directory: /root/.cache/pip/wheels/5e/88/d3/dd7a28607f7225a2c0f7f9085a8c5f5718671b075c403d8bce\n",
      "Successfully built jsonmerge\n",
      "Installing collected packages: jsonmerge\n",
      "Successfully installed jsonmerge-1.7.0\n"
     ]
    }
   ],
   "source": [
    "!pip install jsonmerge"
   ]
  },
  {
   "cell_type": "code",
   "execution_count": 16,
   "metadata": {},
   "outputs": [
    {
     "ename": "BaseInstanceError",
     "evalue": "'objectMerge' merge strategy: Base is not an object: #",
     "output_type": "error",
     "traceback": [
      "\u001b[0;31m---------------------------------------------------------------------------\u001b[0m",
      "\u001b[0;31mBaseInstanceError\u001b[0m                         Traceback (most recent call last)",
      "\u001b[0;32m<ipython-input-16-394d4a88f3d5>\u001b[0m in \u001b[0;36m<module>\u001b[0;34m\u001b[0m\n\u001b[1;32m      5\u001b[0m     \u001b[0mcat_json\u001b[0m \u001b[0;34m=\u001b[0m \u001b[0mjson\u001b[0m\u001b[0;34m.\u001b[0m\u001b[0mload\u001b[0m\u001b[0;34m(\u001b[0m\u001b[0mf\u001b[0m\u001b[0;34m)\u001b[0m\u001b[0;34m\u001b[0m\u001b[0;34m\u001b[0m\u001b[0m\n\u001b[1;32m      6\u001b[0m \u001b[0;31m#merged_dict = {key: value for (key, value) in (yt_json + cat_json)}\u001b[0m\u001b[0;34m\u001b[0m\u001b[0;34m\u001b[0m\u001b[0;34m\u001b[0m\u001b[0m\n\u001b[0;32m----> 7\u001b[0;31m \u001b[0mdata_json\u001b[0m \u001b[0;34m=\u001b[0m \u001b[0mmerge\u001b[0m\u001b[0;34m(\u001b[0m\u001b[0myt_json\u001b[0m\u001b[0;34m,\u001b[0m\u001b[0mcat_json\u001b[0m\u001b[0;34m)\u001b[0m\u001b[0;34m\u001b[0m\u001b[0;34m\u001b[0m\u001b[0m\n\u001b[0m\u001b[1;32m      8\u001b[0m \u001b[0;31m#collection.insert_many(data_json)\u001b[0m\u001b[0;34m\u001b[0m\u001b[0;34m\u001b[0m\u001b[0;34m\u001b[0m\u001b[0m\n",
      "\u001b[0;32m~/.local/share/virtualenvs/code-AFz48Hjb/lib/python3.8/site-packages/jsonmerge/__init__.py\u001b[0m in \u001b[0;36mmerge\u001b[0;34m(base, head, schema)\u001b[0m\n\u001b[1;32m    370\u001b[0m \u001b[0;34m\u001b[0m\u001b[0m\n\u001b[1;32m    371\u001b[0m     \u001b[0mmerger\u001b[0m \u001b[0;34m=\u001b[0m \u001b[0mMerger\u001b[0m\u001b[0;34m(\u001b[0m\u001b[0mschema\u001b[0m\u001b[0;34m)\u001b[0m\u001b[0;34m\u001b[0m\u001b[0;34m\u001b[0m\u001b[0m\n\u001b[0;32m--> 372\u001b[0;31m     \u001b[0;32mreturn\u001b[0m \u001b[0mmerger\u001b[0m\u001b[0;34m.\u001b[0m\u001b[0mmerge\u001b[0m\u001b[0;34m(\u001b[0m\u001b[0mbase\u001b[0m\u001b[0;34m,\u001b[0m \u001b[0mhead\u001b[0m\u001b[0;34m)\u001b[0m\u001b[0;34m\u001b[0m\u001b[0;34m\u001b[0m\u001b[0m\n\u001b[0m",
      "\u001b[0;32m~/.local/share/virtualenvs/code-AFz48Hjb/lib/python3.8/site-packages/jsonmerge/__init__.py\u001b[0m in \u001b[0;36mmerge\u001b[0;34m(self, base, head, meta, merge_options)\u001b[0m\n\u001b[1;32m    328\u001b[0m \u001b[0;34m\u001b[0m\u001b[0m\n\u001b[1;32m    329\u001b[0m         \u001b[0mwalk\u001b[0m \u001b[0;34m=\u001b[0m \u001b[0mWalkInstance\u001b[0m\u001b[0;34m(\u001b[0m\u001b[0mself\u001b[0m\u001b[0;34m,\u001b[0m \u001b[0mbase\u001b[0m\u001b[0;34m,\u001b[0m \u001b[0mhead\u001b[0m\u001b[0;34m,\u001b[0m \u001b[0mmerge_options\u001b[0m\u001b[0;34m)\u001b[0m\u001b[0;34m\u001b[0m\u001b[0;34m\u001b[0m\u001b[0m\n\u001b[0;32m--> 330\u001b[0;31m         \u001b[0;32mreturn\u001b[0m \u001b[0mwalk\u001b[0m\u001b[0;34m.\u001b[0m\u001b[0mdescend\u001b[0m\u001b[0;34m(\u001b[0m\u001b[0mschema\u001b[0m\u001b[0;34m,\u001b[0m \u001b[0mbase\u001b[0m\u001b[0;34m,\u001b[0m \u001b[0mhead\u001b[0m\u001b[0;34m)\u001b[0m\u001b[0;34m.\u001b[0m\u001b[0mval\u001b[0m\u001b[0;34m\u001b[0m\u001b[0;34m\u001b[0m\u001b[0m\n\u001b[0m\u001b[1;32m    331\u001b[0m \u001b[0;34m\u001b[0m\u001b[0m\n\u001b[1;32m    332\u001b[0m     \u001b[0;32mdef\u001b[0m \u001b[0mget_schema\u001b[0m\u001b[0;34m(\u001b[0m\u001b[0mself\u001b[0m\u001b[0;34m,\u001b[0m \u001b[0mmeta\u001b[0m\u001b[0;34m=\u001b[0m\u001b[0;32mNone\u001b[0m\u001b[0;34m,\u001b[0m \u001b[0mmerge_options\u001b[0m\u001b[0;34m=\u001b[0m\u001b[0;32mNone\u001b[0m\u001b[0;34m)\u001b[0m\u001b[0;34m:\u001b[0m\u001b[0;34m\u001b[0m\u001b[0;34m\u001b[0m\u001b[0m\n",
      "\u001b[0;32m~/.local/share/virtualenvs/code-AFz48Hjb/lib/python3.8/site-packages/jsonmerge/__init__.py\u001b[0m in \u001b[0;36mdescend\u001b[0;34m(self, schema, *args)\u001b[0m\n\u001b[1;32m     83\u001b[0m \u001b[0;34m\u001b[0m\u001b[0m\n\u001b[1;32m     84\u001b[0m         \u001b[0;32mtry\u001b[0m\u001b[0;34m:\u001b[0m\u001b[0;34m\u001b[0m\u001b[0;34m\u001b[0m\u001b[0m\n\u001b[0;32m---> 85\u001b[0;31m             \u001b[0mrv\u001b[0m \u001b[0;34m=\u001b[0m \u001b[0mself\u001b[0m\u001b[0;34m.\u001b[0m\u001b[0mwork\u001b[0m\u001b[0;34m(\u001b[0m\u001b[0mstrategy\u001b[0m\u001b[0;34m,\u001b[0m \u001b[0mschema\u001b[0m\u001b[0;34m,\u001b[0m \u001b[0;34m*\u001b[0m\u001b[0margs\u001b[0m\u001b[0;34m,\u001b[0m \u001b[0;34m**\u001b[0m\u001b[0mopts\u001b[0m\u001b[0;34m)\u001b[0m\u001b[0;34m\u001b[0m\u001b[0;34m\u001b[0m\u001b[0m\n\u001b[0m\u001b[1;32m     86\u001b[0m         \u001b[0;32mexcept\u001b[0m \u001b[0mJSONMergeError\u001b[0m \u001b[0;32mas\u001b[0m \u001b[0mexc\u001b[0m\u001b[0;34m:\u001b[0m\u001b[0;34m\u001b[0m\u001b[0;34m\u001b[0m\u001b[0m\n\u001b[1;32m     87\u001b[0m             \u001b[0;32mif\u001b[0m \u001b[0mexc\u001b[0m\u001b[0;34m.\u001b[0m\u001b[0mstrategy_name\u001b[0m \u001b[0;32mis\u001b[0m \u001b[0;32mNone\u001b[0m\u001b[0;34m:\u001b[0m\u001b[0;34m\u001b[0m\u001b[0;34m\u001b[0m\u001b[0m\n",
      "\u001b[0;32m~/.local/share/virtualenvs/code-AFz48Hjb/lib/python3.8/site-packages/jsonmerge/__init__.py\u001b[0m in \u001b[0;36mwork\u001b[0;34m(self, strategy, schema, base, head, **kwargs)\u001b[0m\n\u001b[1;32m    124\u001b[0m                 \u001b[0;32massert\u001b[0m \u001b[0mhead\u001b[0m\u001b[0;34m.\u001b[0m\u001b[0mval\u001b[0m \u001b[0;32mis\u001b[0m \u001b[0mresolved\u001b[0m\u001b[0;34m\u001b[0m\u001b[0;34m\u001b[0m\u001b[0m\n\u001b[1;32m    125\u001b[0m \u001b[0;34m\u001b[0m\u001b[0m\n\u001b[0;32m--> 126\u001b[0;31m         \u001b[0mrv\u001b[0m \u001b[0;34m=\u001b[0m \u001b[0mstrategy\u001b[0m\u001b[0;34m.\u001b[0m\u001b[0mmerge\u001b[0m\u001b[0;34m(\u001b[0m\u001b[0mself\u001b[0m\u001b[0;34m,\u001b[0m \u001b[0mbase\u001b[0m\u001b[0;34m,\u001b[0m \u001b[0mhead\u001b[0m\u001b[0;34m,\u001b[0m \u001b[0mschema\u001b[0m\u001b[0;34m,\u001b[0m \u001b[0mobjclass_menu\u001b[0m\u001b[0;34m=\u001b[0m\u001b[0mself\u001b[0m\u001b[0;34m.\u001b[0m\u001b[0mmerger\u001b[0m\u001b[0;34m.\u001b[0m\u001b[0mobjclass_menu\u001b[0m\u001b[0;34m,\u001b[0m \u001b[0;34m**\u001b[0m\u001b[0mkwargs\u001b[0m\u001b[0;34m)\u001b[0m\u001b[0;34m\u001b[0m\u001b[0;34m\u001b[0m\u001b[0m\n\u001b[0m\u001b[1;32m    127\u001b[0m \u001b[0;34m\u001b[0m\u001b[0m\n\u001b[1;32m    128\u001b[0m         \u001b[0;32massert\u001b[0m \u001b[0misinstance\u001b[0m\u001b[0;34m(\u001b[0m\u001b[0mrv\u001b[0m\u001b[0;34m,\u001b[0m \u001b[0mJSONValue\u001b[0m\u001b[0;34m)\u001b[0m\u001b[0;34m\u001b[0m\u001b[0;34m\u001b[0m\u001b[0m\n",
      "\u001b[0;32m~/.local/share/virtualenvs/code-AFz48Hjb/lib/python3.8/site-packages/jsonmerge/strategies.py\u001b[0m in \u001b[0;36mmerge\u001b[0;34m(self, walk, base, head, schema, objclass_menu, objClass, **kwargs)\u001b[0m\n\u001b[1;32m    278\u001b[0m         \u001b[0;32melse\u001b[0m\u001b[0;34m:\u001b[0m\u001b[0;34m\u001b[0m\u001b[0;34m\u001b[0m\u001b[0m\n\u001b[1;32m    279\u001b[0m             \u001b[0;32mif\u001b[0m \u001b[0;32mnot\u001b[0m \u001b[0mwalk\u001b[0m\u001b[0;34m.\u001b[0m\u001b[0mis_type\u001b[0m\u001b[0;34m(\u001b[0m\u001b[0mbase\u001b[0m\u001b[0;34m,\u001b[0m \u001b[0;34m\"object\"\u001b[0m\u001b[0;34m)\u001b[0m\u001b[0;34m:\u001b[0m\u001b[0;34m\u001b[0m\u001b[0;34m\u001b[0m\u001b[0m\n\u001b[0;32m--> 280\u001b[0;31m                 \u001b[0;32mraise\u001b[0m \u001b[0mBaseInstanceError\u001b[0m\u001b[0;34m(\u001b[0m\u001b[0;34m\"Base is not an object\"\u001b[0m\u001b[0;34m,\u001b[0m \u001b[0mbase\u001b[0m\u001b[0;34m)\u001b[0m\u001b[0;34m\u001b[0m\u001b[0;34m\u001b[0m\u001b[0m\n\u001b[0m\u001b[1;32m    281\u001b[0m \u001b[0;34m\u001b[0m\u001b[0m\n\u001b[1;32m    282\u001b[0m             \u001b[0mbase\u001b[0m \u001b[0;34m=\u001b[0m \u001b[0mJSONValue\u001b[0m\u001b[0;34m(\u001b[0m\u001b[0mobjcls\u001b[0m\u001b[0;34m(\u001b[0m\u001b[0mbase\u001b[0m\u001b[0;34m.\u001b[0m\u001b[0mval\u001b[0m\u001b[0;34m)\u001b[0m\u001b[0;34m,\u001b[0m \u001b[0mbase\u001b[0m\u001b[0;34m.\u001b[0m\u001b[0mref\u001b[0m\u001b[0;34m)\u001b[0m\u001b[0;34m\u001b[0m\u001b[0;34m\u001b[0m\u001b[0m\n",
      "\u001b[0;31mBaseInstanceError\u001b[0m: 'objectMerge' merge strategy: Base is not an object: #"
     ]
    }
   ],
   "source": [
    "import json\n",
    "from jsonmerge import merge\n",
    "yt_json = json.loads(df_youtube.to_json(orient='records'))\n",
    "with open('./data/US_category_id.json') as f:\n",
    "    cat_json = json.load(f)\n",
    "#merged_dict = {key: value for (key, value) in (yt_json + cat_json)}\n",
    "data_json = merge(yt_json,cat_json)\n",
    "#collection.insert_many(data_json)"
   ]
  },
  {
   "cell_type": "markdown",
   "metadata": {},
   "source": [
    "## Question 1  "
   ]
  },
  {
   "cell_type": "code",
   "execution_count": 45,
   "metadata": {},
   "outputs": [
    {
     "name": "stdout",
     "output_type": "stream",
     "text": [
      "[{'_id': ObjectId('5fc4f2f9a30bd8a54ed3abef'),\n",
      "  'category_id': 28,\n",
      "  'channel_title': 'Apple',\n",
      "  'comment_total': 0,\n",
      "  'date': 13.09,\n",
      "  'dislikes': 26679,\n",
      "  'likes': 185853,\n",
      "  'tags': 'Apple|iPhone 10|iPhone Ten|iPhone|Portrait Lighting|A11 '\n",
      "          'Bionic|augmented reality|emoji|animoji|Face ID|Apple '\n",
      "          'Pay|camera|smartphone',\n",
      "  'thumbnail_link': 'https://i.ytimg.com/vi/K4wEI5zhHB0/default.jpg',\n",
      "  'title': 'iPhone X — Introducing iPhone X — Apple',\n",
      "  'video_id': 'K4wEI5zhHB0',\n",
      "  'views': 7860119},\n",
      " {'_id': ObjectId('5fc4f2f9a30bd8a54ed3acb9'),\n",
      "  'category_id': 28,\n",
      "  'channel_title': 'Apple',\n",
      "  'comment_total': 0,\n",
      "  'date': 14.09,\n",
      "  'dislikes': 44339,\n",
      "  'likes': 258842,\n",
      "  'tags': 'Apple|iPhone 10|iPhone Ten|iPhone|Portrait Lighting|A11 '\n",
      "          'Bionic|augmented reality|emoji|animoji|Face ID|Apple '\n",
      "          'Pay|camera|smartphone',\n",
      "  'thumbnail_link': 'https://i.ytimg.com/vi/K4wEI5zhHB0/default.jpg',\n",
      "  'title': 'iPhone X — Introducing iPhone X — Apple',\n",
      "  'video_id': 'K4wEI5zhHB0',\n",
      "  'views': 12200526},\n",
      " {'_id': ObjectId('5fc4f2f9a30bd8a54ed3ad91'),\n",
      "  'category_id': 28,\n",
      "  'channel_title': 'Apple',\n",
      "  'comment_total': 0,\n",
      "  'date': 15.09,\n",
      "  'dislikes': 57528,\n",
      "  'likes': 321403,\n",
      "  'tags': 'Apple|iPhone 10|iPhone Ten|iPhone|Portrait Lighting|A11 '\n",
      "          'Bionic|augmented reality|emoji|animoji|Face ID|Apple '\n",
      "          'Pay|camera|smartphone',\n",
      "  'thumbnail_link': 'https://i.ytimg.com/vi/K4wEI5zhHB0/default.jpg',\n",
      "  'title': 'iPhone X — Introducing iPhone X — Apple',\n",
      "  'video_id': 'K4wEI5zhHB0',\n",
      "  'views': 15731493},\n",
      " {'_id': ObjectId('5fc4f2f9a30bd8a54ed3ae90'),\n",
      "  'category_id': 28,\n",
      "  'channel_title': 'Apple',\n",
      "  'comment_total': 0,\n",
      "  'date': 16.09,\n",
      "  'dislikes': 64933,\n",
      "  'likes': 359392,\n",
      "  'tags': 'Apple|iPhone 10|iPhone Ten|iPhone|Portrait Lighting|A11 '\n",
      "          'Bionic|augmented reality|emoji|animoji|Face ID|Apple '\n",
      "          'Pay|camera|smartphone',\n",
      "  'thumbnail_link': 'https://i.ytimg.com/vi/K4wEI5zhHB0/default.jpg',\n",
      "  'title': 'iPhone X — Introducing iPhone X — Apple',\n",
      "  'video_id': 'K4wEI5zhHB0',\n",
      "  'views': 18082737},\n",
      " {'_id': ObjectId('5fc4f2f9a30bd8a54ed3af77'),\n",
      "  'category_id': 28,\n",
      "  'channel_title': 'Apple',\n",
      "  'comment_total': 0,\n",
      "  'date': 17.09,\n",
      "  'dislikes': 69465,\n",
      "  'likes': 381919,\n",
      "  'tags': 'Apple|iPhone 10|iPhone Ten|iPhone|Portrait Lighting|A11 '\n",
      "          'Bionic|augmented reality|emoji|animoji|Face ID|Apple '\n",
      "          'Pay|camera|smartphone',\n",
      "  'thumbnail_link': 'https://i.ytimg.com/vi/K4wEI5zhHB0/default.jpg',\n",
      "  'title': 'iPhone X — Introducing iPhone X — Apple',\n",
      "  'video_id': 'K4wEI5zhHB0',\n",
      "  'views': 19707391},\n",
      " {'_id': ObjectId('5fc4f2f9a30bd8a54ed3b013'),\n",
      "  'category_id': 28,\n",
      "  'channel_title': 'Apple',\n",
      "  'comment_total': 0,\n",
      "  'date': 18.09,\n",
      "  'dislikes': 1489,\n",
      "  'likes': 14647,\n",
      "  'tags': 'Apple|airpods|apple watch|apple watch series 3|apple watch '\n",
      "          'cellular|apple watch 4g|apple music|40 million songs on your '\n",
      "          'wrist|apple skateboard ad|apple train station ad|apple roll '\n",
      "          'ad|apple watch skateboard ad|apple watch train station ad|apple '\n",
      "          'watch roll ad|airpods skateboard ad|airpods train station '\n",
      "          'ad|airpods roll ad|apple music skateboard ad|apple music train '\n",
      "          'station ad|apple music roll ad|misbehaving',\n",
      "  'thumbnail_link': 'https://i.ytimg.com/vi/A9k88sMyiJM/default.jpg',\n",
      "  'title': 'Apple Watch Series 3 + Apple Music — Roll — Apple',\n",
      "  'video_id': 'A9k88sMyiJM',\n",
      "  'views': 782543},\n",
      " {'_id': ObjectId('5fc4f2f9a30bd8a54ed3b100'),\n",
      "  'category_id': 28,\n",
      "  'channel_title': 'Apple',\n",
      "  'comment_total': 0,\n",
      "  'date': 19.09,\n",
      "  'dislikes': 8719,\n",
      "  'likes': 26021,\n",
      "  'tags': 'Apple|airpods|apple watch|apple watch series 3|apple watch '\n",
      "          'cellular|apple watch 4g|apple music|40 million songs on your '\n",
      "          'wrist|apple skateboard ad|apple train station ad|apple roll '\n",
      "          'ad|apple watch skateboard ad|apple watch train station ad|apple '\n",
      "          'watch roll ad|airpods skateboard ad|airpods train station '\n",
      "          'ad|airpods roll ad|apple music skateboard ad|apple music train '\n",
      "          'station ad|apple music roll ad|misbehaving',\n",
      "  'thumbnail_link': 'https://i.ytimg.com/vi/A9k88sMyiJM/default.jpg',\n",
      "  'title': 'Apple Watch Series 3 + Apple Music — Roll — Apple',\n",
      "  'video_id': 'A9k88sMyiJM',\n",
      "  'views': 3987580},\n",
      " {'_id': ObjectId('5fc4f2f9a30bd8a54ed3b1f0'),\n",
      "  'category_id': 28,\n",
      "  'channel_title': 'Apple',\n",
      "  'comment_total': 0,\n",
      "  'date': 20.09,\n",
      "  'dislikes': 8982,\n",
      "  'likes': 26609,\n",
      "  'tags': 'Apple|airpods|apple watch|apple watch series 3|apple watch '\n",
      "          'cellular|apple watch 4g|apple music|40 million songs on your '\n",
      "          'wrist|apple skateboard ad|apple train station ad|apple roll '\n",
      "          'ad|apple watch skateboard ad|apple watch train station ad|apple '\n",
      "          'watch roll ad|airpods skateboard ad|airpods train station '\n",
      "          'ad|airpods roll ad|apple music skateboard ad|apple music train '\n",
      "          'station ad|apple music roll ad|misbehaving',\n",
      "  'thumbnail_link': 'https://i.ytimg.com/vi/A9k88sMyiJM/default.jpg',\n",
      "  'title': 'Apple Watch Series 3 + Apple Music — Roll — Apple',\n",
      "  'video_id': 'A9k88sMyiJM',\n",
      "  'views': 4112187},\n",
      " {'_id': ObjectId('5fc4f2f9a30bd8a54ed3bbba'),\n",
      "  'category_id': 28,\n",
      "  'channel_title': 'Apple',\n",
      "  'comment_total': 0,\n",
      "  'date': 3.1,\n",
      "  'dislikes': 459,\n",
      "  'likes': 1240,\n",
      "  'tags': 'Apple|new|iPhone|iPhone 8|iPhone 8 Plus|iOS '\n",
      "          '11|4.7-inch|5.5-inch|Portrait Lighting|Shot on '\n",
      "          'iPhone|camera|iphonography|smartphone|This Strange Effect|The '\n",
      "          'Shacks',\n",
      "  'thumbnail_link': 'https://i.ytimg.com/vi/REZl-ANYKKY/default.jpg',\n",
      "  'title': 'iPhone 8 Plus — Portraits of Her  — Apple',\n",
      "  'video_id': 'REZl-ANYKKY',\n",
      "  'views': 117564},\n",
      " {'_id': ObjectId('5fc4f2f9a30bd8a54ed3bcab'),\n",
      "  'category_id': 28,\n",
      "  'channel_title': 'Apple',\n",
      "  'comment_total': 0,\n",
      "  'date': 4.1,\n",
      "  'dislikes': 539,\n",
      "  'likes': 1538,\n",
      "  'tags': 'Apple|new|iPhone|iPhone 8|iPhone 8 Plus|iOS '\n",
      "          '11|4.7-inch|5.5-inch|Portrait Lighting|Shot on '\n",
      "          'iPhone|camera|iphonography|smartphone|This Strange Effect|The '\n",
      "          'Shacks',\n",
      "  'thumbnail_link': 'https://i.ytimg.com/vi/REZl-ANYKKY/default.jpg',\n",
      "  'title': 'iPhone 8 Plus — Portraits of Her  — Apple',\n",
      "  'video_id': 'REZl-ANYKKY',\n",
      "  'views': 163024},\n",
      " {'_id': ObjectId('5fc4f2f9a30bd8a54ed3bda9'),\n",
      "  'category_id': 28,\n",
      "  'channel_title': 'Apple',\n",
      "  'comment_total': 0,\n",
      "  'date': 5.1,\n",
      "  'dislikes': 570,\n",
      "  'likes': 1700,\n",
      "  'tags': 'Apple|new|iPhone|iPhone 8|iPhone 8 Plus|iOS '\n",
      "          '11|4.7-inch|5.5-inch|Portrait Lighting|Shot on '\n",
      "          'iPhone|camera|iphonography|smartphone|This Strange Effect|The '\n",
      "          'Shacks',\n",
      "  'thumbnail_link': 'https://i.ytimg.com/vi/REZl-ANYKKY/default.jpg',\n",
      "  'title': 'iPhone 8 Plus — Portraits of Her  — Apple',\n",
      "  'video_id': 'REZl-ANYKKY',\n",
      "  'views': 183325}]\n"
     ]
    }
   ],
   "source": [
    "video_apple = []\n",
    "for i in collection.find({\"channel_title\":\"Apple\"}) :\n",
    "    video_apple.append(i)\n",
    "pprint.pprint(video_apple)"
   ]
  },
  {
   "cell_type": "markdown",
   "metadata": {},
   "source": [
    "## Question 2"
   ]
  },
  {
   "cell_type": "code",
   "execution_count": 64,
   "metadata": {},
   "outputs": [
    {
     "name": "stdout",
     "output_type": "stream",
     "text": [
      "[1, 2, 10, 15, 17, 19, 20, 22, 23, 24, 25, 26, 27, 28, 29, 43]\n",
      "16\n"
     ]
    }
   ],
   "source": [
    "categories = collection.distinct(\"category_id\")\n",
    "print(categories)\n",
    "print(len(categories))"
   ]
  },
  {
   "cell_type": "markdown",
   "metadata": {},
   "source": [
    "## Question 3"
   ]
  },
  {
   "cell_type": "code",
   "execution_count": 62,
   "metadata": {},
   "outputs": [],
   "source": [
    "None"
   ]
  },
  {
   "cell_type": "markdown",
   "metadata": {},
   "source": [
    "## Question 4"
   ]
  },
  {
   "cell_type": "code",
   "execution_count": 55,
   "metadata": {},
   "outputs": [
    {
     "data": {
      "text/plain": [
       "{'_id': ObjectId('5fc4f2f9a30bd8a54ed3b361'),\n",
       " 'video_id': 'MBdVXkSdhwU',\n",
       " 'title': \"BTS (방탄소년단) 'DNA' Official MV\",\n",
       " 'channel_title': 'ibighit',\n",
       " 'category_id': 10,\n",
       " 'tags': 'BIGHIT|빅히트|방탄소년단|BTS|BANGTAN|방탄',\n",
       " 'views': 41500672,\n",
       " 'likes': 2010366,\n",
       " 'dislikes': 78076,\n",
       " 'comment_total': 736179,\n",
       " 'thumbnail_link': 'https://i.ytimg.com/vi/MBdVXkSdhwU/default.jpg',\n",
       " 'date': 22.09}"
      ]
     },
     "execution_count": 55,
     "metadata": {},
     "output_type": "execute_result"
    }
   ],
   "source": [
    "collection.find_one(sort=[(\"views\", pymongo.DESCENDING)])"
   ]
  },
  {
   "cell_type": "code",
   "execution_count": 61,
   "metadata": {},
   "outputs": [
    {
     "name": "stdout",
     "output_type": "stream",
     "text": [
      "[{'_id': ObjectId('5fc4f2f9a30bd8a54ed3ac9f'),\n",
      "  'category_id': 10,\n",
      "  'channel_title': 'ZaynVEVO',\n",
      "  'comment_total': 100661,\n",
      "  'date': 13.09,\n",
      "  'dislikes': 28049,\n",
      "  'likes': 1431683,\n",
      "  'tags': 'Dusk Till Dawn|Pop|RCA Records Label|ZAYN feat. Sia',\n",
      "  'thumbnail_link': 'https://i.ytimg.com/vi/tt2k8PGm-TI/default.jpg',\n",
      "  'title': 'ZAYN - Dusk Till Dawn ft. Sia',\n",
      "  'video_id': 'tt2k8PGm-TI',\n",
      "  'views': 36323498},\n",
      " {'_id': ObjectId('5fc4f2f9a30bd8a54ed3b18e'),\n",
      "  'category_id': 10,\n",
      "  'channel_title': 'ibighit',\n",
      "  'comment_total': 582624,\n",
      "  'date': 20.09,\n",
      "  'dislikes': 63990,\n",
      "  'likes': 1762428,\n",
      "  'tags': 'BIGHIT|빅히트|방탄소년단|BTS|BANGTAN|방탄',\n",
      "  'thumbnail_link': 'https://i.ytimg.com/vi/MBdVXkSdhwU/default.jpg',\n",
      "  'title': \"BTS (방탄소년단) 'DNA' Official MV\",\n",
      "  'video_id': 'MBdVXkSdhwU',\n",
      "  'views': 30424471},\n",
      " {'_id': ObjectId('5fc4f2f9a30bd8a54ed3b28c'),\n",
      "  'category_id': 10,\n",
      "  'channel_title': 'ibighit',\n",
      "  'comment_total': 713293,\n",
      "  'date': 21.09,\n",
      "  'dislikes': 75294,\n",
      "  'likes': 1950475,\n",
      "  'tags': 'BIGHIT|빅히트|방탄소년단|BTS|BANGTAN|방탄',\n",
      "  'thumbnail_link': 'https://i.ytimg.com/vi/MBdVXkSdhwU/default.jpg',\n",
      "  'title': \"BTS (방탄소년단) 'DNA' Official MV\",\n",
      "  'video_id': 'MBdVXkSdhwU',\n",
      "  'views': 38013692},\n",
      " {'_id': ObjectId('5fc4f2f9a30bd8a54ed3b361'),\n",
      "  'category_id': 10,\n",
      "  'channel_title': 'ibighit',\n",
      "  'comment_total': 736179,\n",
      "  'date': 22.09,\n",
      "  'dislikes': 78076,\n",
      "  'likes': 2010366,\n",
      "  'tags': 'BIGHIT|빅히트|방탄소년단|BTS|BANGTAN|방탄',\n",
      "  'thumbnail_link': 'https://i.ytimg.com/vi/MBdVXkSdhwU/default.jpg',\n",
      "  'title': \"BTS (방탄소년단) 'DNA' Official MV\",\n",
      "  'video_id': 'MBdVXkSdhwU',\n",
      "  'views': 41500672},\n",
      " {'_id': ObjectId('5fc4f2f9a30bd8a54ed3b3b9'),\n",
      "  'category_id': 10,\n",
      "  'channel_title': 'shakiraVEVO',\n",
      "  'comment_total': 40071,\n",
      "  'date': 22.09,\n",
      "  'dislikes': 43475,\n",
      "  'likes': 578266,\n",
      "  'tags': 'Shakira ft. Nicky Jam|Shakira ft. Nicky Jam Music|Shakira ft. Nicky '\n",
      "          'Jam Official Video|Shakira ft. Nicky Jam Video|Shakira ft. Nicky '\n",
      "          'Jam Video Oficial|Perro Fiel Official Video|Official Video|Perro '\n",
      "          'Fiel Single|Single|Shakira ft. Nicky Jam New Single|Shakira ft. '\n",
      "          'Nicky Jam Single|Shakira ft. Nicky Jam Song|Perro Fiel new '\n",
      "          'song|Perro Fiel nueva canción|Shakira ft. Nicky Jam nuevo '\n",
      "          'sencillo|Shakira ft. Nicky Jam Perro Fiel|Latin Pop',\n",
      "  'thumbnail_link': 'https://i.ytimg.com/vi/SHq2qrFUlGY/default.jpg',\n",
      "  'title': 'Shakira - Perro Fiel (Official Video) ft. Nicky Jam',\n",
      "  'video_id': 'SHq2qrFUlGY',\n",
      "  'views': 32136948},\n",
      " {'_id': ObjectId('5fc4f2f9a30bd8a54ed3c50d'),\n",
      "  'category_id': 24,\n",
      "  'channel_title': 'BETNetworks',\n",
      "  'comment_total': 314704,\n",
      "  'date': 15.1,\n",
      "  'dislikes': 166986,\n",
      "  'likes': 916296,\n",
      "  'tags': 'BET|BET Networks|BET Music|Black Entertainment '\n",
      "          'Television|eminem|freestyle|full|hip hop awards|hip hop awards '\n",
      "          '2017|bet hip hop awards|donald trump|potus|full freestyle|EMINEM '\n",
      "          'TRUMP|TRUMP TWITTER|trump tweet|trump nfl|eminem bet cypher|bet '\n",
      "          'cypher|eminem freestyle|8 mile|eminem new album|trump diss|eminem '\n",
      "          'trump diss',\n",
      "  'thumbnail_link': 'https://i.ytimg.com/vi/LunHybOKIjU/default.jpg',\n",
      "  'title': 'Eminem Rips Donald Trump In BET Hip Hop Awards Freestyle Cypher',\n",
      "  'video_id': 'LunHybOKIjU',\n",
      "  'views': 30224787},\n",
      " {'_id': ObjectId('5fc4f2f9a30bd8a54ed3c5fe'),\n",
      "  'category_id': 24,\n",
      "  'channel_title': 'BETNetworks',\n",
      "  'comment_total': 327345,\n",
      "  'date': 16.1,\n",
      "  'dislikes': 175483,\n",
      "  'likes': 950353,\n",
      "  'tags': 'BET|BET Networks|BET Music|Black Entertainment '\n",
      "          'Television|eminem|freestyle|full|hip hop awards|hip hop awards '\n",
      "          '2017|bet hip hop awards|donald trump|potus|full freestyle|EMINEM '\n",
      "          'TRUMP|TRUMP TWITTER|trump tweet|trump nfl|eminem bet cypher|bet '\n",
      "          'cypher|eminem freestyle|8 mile|eminem new album|trump diss|eminem '\n",
      "          'trump diss',\n",
      "  'thumbnail_link': 'https://i.ytimg.com/vi/LunHybOKIjU/default.jpg',\n",
      "  'title': 'Eminem Rips Donald Trump In BET Hip Hop Awards Freestyle Cypher',\n",
      "  'video_id': 'LunHybOKIjU',\n",
      "  'views': 31636010},\n",
      " {'_id': ObjectId('5fc4f2f9a30bd8a54ed3c6f3'),\n",
      "  'category_id': 24,\n",
      "  'channel_title': 'BETNetworks',\n",
      "  'comment_total': 332396,\n",
      "  'date': 17.1,\n",
      "  'dislikes': 180427,\n",
      "  'likes': 968719,\n",
      "  'tags': 'BET|BET Networks|BET Music|Black Entertainment '\n",
      "          'Television|eminem|freestyle|full|hip hop awards|hip hop awards '\n",
      "          '2017|bet hip hop awards|donald trump|potus|full freestyle|EMINEM '\n",
      "          'TRUMP|TRUMP TWITTER|trump tweet|trump nfl|eminem bet cypher|bet '\n",
      "          'cypher|eminem freestyle|8 mile|eminem new album|trump diss|eminem '\n",
      "          'trump diss',\n",
      "  'thumbnail_link': 'https://i.ytimg.com/vi/LunHybOKIjU/default.jpg',\n",
      "  'title': 'Eminem Rips Donald Trump In BET Hip Hop Awards Freestyle Cypher',\n",
      "  'video_id': 'LunHybOKIjU',\n",
      "  'views': 32512343},\n",
      " {'_id': ObjectId('5fc4f2f9a30bd8a54ed3c7cd'),\n",
      "  'category_id': 24,\n",
      "  'channel_title': 'BETNetworks',\n",
      "  'comment_total': 337603,\n",
      "  'date': 18.1,\n",
      "  'dislikes': 184310,\n",
      "  'likes': 982842,\n",
      "  'tags': 'BET|BET Networks|BET Music|Black Entertainment '\n",
      "          'Television|eminem|freestyle|full|hip hop awards|hip hop awards '\n",
      "          '2017|bet hip hop awards|donald trump|potus|full freestyle|EMINEM '\n",
      "          'TRUMP|TRUMP TWITTER|trump tweet|trump nfl|eminem bet cypher|bet '\n",
      "          'cypher|eminem freestyle|8 mile|eminem new album|trump diss|eminem '\n",
      "          'trump diss',\n",
      "  'thumbnail_link': 'https://i.ytimg.com/vi/LunHybOKIjU/default.jpg',\n",
      "  'title': 'Eminem Rips Donald Trump In BET Hip Hop Awards Freestyle Cypher',\n",
      "  'video_id': 'LunHybOKIjU',\n",
      "  'views': 33191594}]\n"
     ]
    }
   ],
   "source": [
    "video_more_views = []\n",
    "for i in collection.find({\"views\" : {\"$gt\" : 30000000}}) :\n",
    "    video_more_views.append(i)\n",
    "pprint.pprint(video_more_views)"
   ]
  },
  {
   "cell_type": "markdown",
   "metadata": {},
   "source": [
    "## Question 5"
   ]
  },
  {
   "cell_type": "code",
   "execution_count": 79,
   "metadata": {},
   "outputs": [
    {
     "data": {
      "text/plain": [
       "[{'_id': 19, 'avgviews': 464041.0833333333},\n",
       " {'_id': 1, 'avgviews': 1039472.6560846561},\n",
       " {'_id': 25, 'avgviews': 540955.5569823436},\n",
       " {'_id': 28, 'avgviews': 924730.548828125},\n",
       " {'_id': 20, 'avgviews': 681081.8170731707},\n",
       " {'_id': 27, 'avgviews': 547582.4700598803},\n",
       " {'_id': 17, 'avgviews': 728434.3243902439},\n",
       " {'_id': 22, 'avgviews': 971532.7573696146},\n",
       " {'_id': 10, 'avgviews': 1176553.612},\n",
       " {'_id': 43, 'avgviews': 8492.5},\n",
       " {'_id': 2, 'avgviews': 607693.8706896552},\n",
       " {'_id': 26, 'avgviews': 537665.1806674339},\n",
       " {'_id': 24, 'avgviews': 1154868.4397251718},\n",
       " {'_id': 23, 'avgviews': 1240073.294039735},\n",
       " {'_id': 15, 'avgviews': 651404.3879310344},\n",
       " {'_id': 29, 'avgviews': 1110334.2142857143}]"
      ]
     },
     "execution_count": 79,
     "metadata": {},
     "output_type": "execute_result"
    }
   ],
   "source": [
    "cur = collection.aggregate(\n",
    "    [\n",
    "        {\n",
    "            \"$group\" : {       \n",
    "                \"_id\":\"$category_id\",\n",
    "                \"avgviews\": { \"$avg\": \"$views\" }\n",
    "            }\n",
    "        }\n",
    "    ]\n",
    ")\n",
    "list(cur)"
   ]
  },
  {
   "cell_type": "markdown",
   "metadata": {},
   "source": [
    "## Question 6 "
   ]
  },
  {
   "cell_type": "code",
   "execution_count": 92,
   "metadata": {},
   "outputs": [
    {
     "ename": "OperationFailure",
     "evalue": "unknown group operator '$gt', full error: {'ok': 0.0, 'errmsg': \"unknown group operator '$gt'\", 'code': 15952, 'codeName': 'Location15952'}",
     "output_type": "error",
     "traceback": [
      "\u001b[0;31m---------------------------------------------------------------------------\u001b[0m",
      "\u001b[0;31mOperationFailure\u001b[0m                          Traceback (most recent call last)",
      "\u001b[0;32m<ipython-input-92-91e140d5e375>\u001b[0m in \u001b[0;36m<module>\u001b[0;34m\u001b[0m\n\u001b[0;32m----> 1\u001b[0;31m cur = collection.aggregate(\n\u001b[0m\u001b[1;32m      2\u001b[0m     [\n\u001b[1;32m      3\u001b[0m         {\n\u001b[1;32m      4\u001b[0m             \"$group\" : {       \n\u001b[1;32m      5\u001b[0m                 \u001b[0;34m\"_id\"\u001b[0m\u001b[0;34m:\u001b[0m\u001b[0;34m\"$channel_title\"\u001b[0m\u001b[0;34m,\u001b[0m\u001b[0;34m\u001b[0m\u001b[0;34m\u001b[0m\u001b[0m\n",
      "\u001b[0;32m~/.local/share/virtualenvs/code-AFz48Hjb/lib/python3.8/site-packages/pymongo/collection.py\u001b[0m in \u001b[0;36maggregate\u001b[0;34m(self, pipeline, session, **kwargs)\u001b[0m\n\u001b[1;32m   2451\u001b[0m         \"\"\"\n\u001b[1;32m   2452\u001b[0m         \u001b[0;32mwith\u001b[0m \u001b[0mself\u001b[0m\u001b[0;34m.\u001b[0m\u001b[0m__database\u001b[0m\u001b[0;34m.\u001b[0m\u001b[0mclient\u001b[0m\u001b[0;34m.\u001b[0m\u001b[0m_tmp_session\u001b[0m\u001b[0;34m(\u001b[0m\u001b[0msession\u001b[0m\u001b[0;34m,\u001b[0m \u001b[0mclose\u001b[0m\u001b[0;34m=\u001b[0m\u001b[0;32mFalse\u001b[0m\u001b[0;34m)\u001b[0m \u001b[0;32mas\u001b[0m \u001b[0ms\u001b[0m\u001b[0;34m:\u001b[0m\u001b[0;34m\u001b[0m\u001b[0;34m\u001b[0m\u001b[0m\n\u001b[0;32m-> 2453\u001b[0;31m             return self._aggregate(_CollectionAggregationCommand,\n\u001b[0m\u001b[1;32m   2454\u001b[0m                                    \u001b[0mpipeline\u001b[0m\u001b[0;34m,\u001b[0m\u001b[0;34m\u001b[0m\u001b[0;34m\u001b[0m\u001b[0m\n\u001b[1;32m   2455\u001b[0m                                    \u001b[0mCommandCursor\u001b[0m\u001b[0;34m,\u001b[0m\u001b[0;34m\u001b[0m\u001b[0;34m\u001b[0m\u001b[0m\n",
      "\u001b[0;32m~/.local/share/virtualenvs/code-AFz48Hjb/lib/python3.8/site-packages/pymongo/collection.py\u001b[0m in \u001b[0;36m_aggregate\u001b[0;34m(self, aggregation_command, pipeline, cursor_class, session, explicit_session, **kwargs)\u001b[0m\n\u001b[1;32m   2373\u001b[0m             \u001b[0mself\u001b[0m\u001b[0;34m,\u001b[0m \u001b[0mcursor_class\u001b[0m\u001b[0;34m,\u001b[0m \u001b[0mpipeline\u001b[0m\u001b[0;34m,\u001b[0m \u001b[0mkwargs\u001b[0m\u001b[0;34m,\u001b[0m \u001b[0mexplicit_session\u001b[0m\u001b[0;34m,\u001b[0m\u001b[0;34m\u001b[0m\u001b[0;34m\u001b[0m\u001b[0m\n\u001b[1;32m   2374\u001b[0m             user_fields={'cursor': {'firstBatch': 1}}, use_cursor=use_cursor)\n\u001b[0;32m-> 2375\u001b[0;31m         return self.__database.client._retryable_read(\n\u001b[0m\u001b[1;32m   2376\u001b[0m             \u001b[0mcmd\u001b[0m\u001b[0;34m.\u001b[0m\u001b[0mget_cursor\u001b[0m\u001b[0;34m,\u001b[0m \u001b[0mcmd\u001b[0m\u001b[0;34m.\u001b[0m\u001b[0mget_read_preference\u001b[0m\u001b[0;34m(\u001b[0m\u001b[0msession\u001b[0m\u001b[0;34m)\u001b[0m\u001b[0;34m,\u001b[0m \u001b[0msession\u001b[0m\u001b[0;34m,\u001b[0m\u001b[0;34m\u001b[0m\u001b[0;34m\u001b[0m\u001b[0m\n\u001b[1;32m   2377\u001b[0m             retryable=not cmd._performs_write)\n",
      "\u001b[0;32m~/.local/share/virtualenvs/code-AFz48Hjb/lib/python3.8/site-packages/pymongo/mongo_client.py\u001b[0m in \u001b[0;36m_retryable_read\u001b[0;34m(self, func, read_pref, session, address, retryable, exhaust)\u001b[0m\n\u001b[1;32m   1469\u001b[0m                         \u001b[0;31m# not support retryable reads, raise the last error.\u001b[0m\u001b[0;34m\u001b[0m\u001b[0;34m\u001b[0m\u001b[0;34m\u001b[0m\u001b[0m\n\u001b[1;32m   1470\u001b[0m                         \u001b[0;32mraise\u001b[0m \u001b[0mlast_error\u001b[0m\u001b[0;34m\u001b[0m\u001b[0;34m\u001b[0m\u001b[0m\n\u001b[0;32m-> 1471\u001b[0;31m                     \u001b[0;32mreturn\u001b[0m \u001b[0mfunc\u001b[0m\u001b[0;34m(\u001b[0m\u001b[0msession\u001b[0m\u001b[0;34m,\u001b[0m \u001b[0mserver\u001b[0m\u001b[0;34m,\u001b[0m \u001b[0msock_info\u001b[0m\u001b[0;34m,\u001b[0m \u001b[0mslave_ok\u001b[0m\u001b[0;34m)\u001b[0m\u001b[0;34m\u001b[0m\u001b[0;34m\u001b[0m\u001b[0m\n\u001b[0m\u001b[1;32m   1472\u001b[0m             \u001b[0;32mexcept\u001b[0m \u001b[0mServerSelectionTimeoutError\u001b[0m\u001b[0;34m:\u001b[0m\u001b[0;34m\u001b[0m\u001b[0;34m\u001b[0m\u001b[0m\n\u001b[1;32m   1473\u001b[0m                 \u001b[0;32mif\u001b[0m \u001b[0mretrying\u001b[0m\u001b[0;34m:\u001b[0m\u001b[0;34m\u001b[0m\u001b[0;34m\u001b[0m\u001b[0m\n",
      "\u001b[0;32m~/.local/share/virtualenvs/code-AFz48Hjb/lib/python3.8/site-packages/pymongo/aggregation.py\u001b[0m in \u001b[0;36mget_cursor\u001b[0;34m(self, session, server, sock_info, slave_ok)\u001b[0m\n\u001b[1;32m    134\u001b[0m \u001b[0;34m\u001b[0m\u001b[0m\n\u001b[1;32m    135\u001b[0m         \u001b[0;31m# Run command.\u001b[0m\u001b[0;34m\u001b[0m\u001b[0;34m\u001b[0m\u001b[0;34m\u001b[0m\u001b[0m\n\u001b[0;32m--> 136\u001b[0;31m         result = sock_info.command(\n\u001b[0m\u001b[1;32m    137\u001b[0m             \u001b[0mself\u001b[0m\u001b[0;34m.\u001b[0m\u001b[0m_database\u001b[0m\u001b[0;34m.\u001b[0m\u001b[0mname\u001b[0m\u001b[0;34m,\u001b[0m\u001b[0;34m\u001b[0m\u001b[0;34m\u001b[0m\u001b[0m\n\u001b[1;32m    138\u001b[0m             \u001b[0mcmd\u001b[0m\u001b[0;34m,\u001b[0m\u001b[0;34m\u001b[0m\u001b[0;34m\u001b[0m\u001b[0m\n",
      "\u001b[0;32m~/.local/share/virtualenvs/code-AFz48Hjb/lib/python3.8/site-packages/pymongo/pool.py\u001b[0m in \u001b[0;36mcommand\u001b[0;34m(self, dbname, spec, slave_ok, read_preference, codec_options, check, allowable_errors, check_keys, read_concern, write_concern, parse_write_concern_error, collation, session, client, retryable_write, publish_events, user_fields, exhaust_allowed)\u001b[0m\n\u001b[1;32m    681\u001b[0m             \u001b[0mself\u001b[0m\u001b[0;34m.\u001b[0m\u001b[0m_raise_if_not_writable\u001b[0m\u001b[0;34m(\u001b[0m\u001b[0munacknowledged\u001b[0m\u001b[0;34m)\u001b[0m\u001b[0;34m\u001b[0m\u001b[0;34m\u001b[0m\u001b[0m\n\u001b[1;32m    682\u001b[0m         \u001b[0;32mtry\u001b[0m\u001b[0;34m:\u001b[0m\u001b[0;34m\u001b[0m\u001b[0;34m\u001b[0m\u001b[0m\n\u001b[0;32m--> 683\u001b[0;31m             return command(self, dbname, spec, slave_ok,\n\u001b[0m\u001b[1;32m    684\u001b[0m                            \u001b[0mself\u001b[0m\u001b[0;34m.\u001b[0m\u001b[0mis_mongos\u001b[0m\u001b[0;34m,\u001b[0m \u001b[0mread_preference\u001b[0m\u001b[0;34m,\u001b[0m \u001b[0mcodec_options\u001b[0m\u001b[0;34m,\u001b[0m\u001b[0;34m\u001b[0m\u001b[0;34m\u001b[0m\u001b[0m\n\u001b[1;32m    685\u001b[0m                            \u001b[0msession\u001b[0m\u001b[0;34m,\u001b[0m \u001b[0mclient\u001b[0m\u001b[0;34m,\u001b[0m \u001b[0mcheck\u001b[0m\u001b[0;34m,\u001b[0m \u001b[0mallowable_errors\u001b[0m\u001b[0;34m,\u001b[0m\u001b[0;34m\u001b[0m\u001b[0;34m\u001b[0m\u001b[0m\n",
      "\u001b[0;32m~/.local/share/virtualenvs/code-AFz48Hjb/lib/python3.8/site-packages/pymongo/network.py\u001b[0m in \u001b[0;36mcommand\u001b[0;34m(sock_info, dbname, spec, slave_ok, is_mongos, read_preference, codec_options, session, client, check, allowable_errors, address, check_keys, listeners, max_bson_size, read_concern, parse_write_concern_error, collation, compression_ctx, use_op_msg, unacknowledged, user_fields, exhaust_allowed)\u001b[0m\n\u001b[1;32m    157\u001b[0m                 \u001b[0mclient\u001b[0m\u001b[0;34m.\u001b[0m\u001b[0m_process_response\u001b[0m\u001b[0;34m(\u001b[0m\u001b[0mresponse_doc\u001b[0m\u001b[0;34m,\u001b[0m \u001b[0msession\u001b[0m\u001b[0;34m)\u001b[0m\u001b[0;34m\u001b[0m\u001b[0;34m\u001b[0m\u001b[0m\n\u001b[1;32m    158\u001b[0m             \u001b[0;32mif\u001b[0m \u001b[0mcheck\u001b[0m\u001b[0;34m:\u001b[0m\u001b[0;34m\u001b[0m\u001b[0;34m\u001b[0m\u001b[0m\n\u001b[0;32m--> 159\u001b[0;31m                 helpers._check_command_response(\n\u001b[0m\u001b[1;32m    160\u001b[0m                     \u001b[0mresponse_doc\u001b[0m\u001b[0;34m,\u001b[0m \u001b[0msock_info\u001b[0m\u001b[0;34m.\u001b[0m\u001b[0mmax_wire_version\u001b[0m\u001b[0;34m,\u001b[0m \u001b[0;32mNone\u001b[0m\u001b[0;34m,\u001b[0m\u001b[0;34m\u001b[0m\u001b[0;34m\u001b[0m\u001b[0m\n\u001b[1;32m    161\u001b[0m                     \u001b[0mallowable_errors\u001b[0m\u001b[0;34m,\u001b[0m\u001b[0;34m\u001b[0m\u001b[0;34m\u001b[0m\u001b[0m\n",
      "\u001b[0;32m~/.local/share/virtualenvs/code-AFz48Hjb/lib/python3.8/site-packages/pymongo/helpers.py\u001b[0m in \u001b[0;36m_check_command_response\u001b[0;34m(response, max_wire_version, msg, allowable_errors, parse_write_concern_error)\u001b[0m\n\u001b[1;32m    165\u001b[0m \u001b[0;34m\u001b[0m\u001b[0m\n\u001b[1;32m    166\u001b[0m             \u001b[0mmsg\u001b[0m \u001b[0;34m=\u001b[0m \u001b[0mmsg\u001b[0m \u001b[0;32mor\u001b[0m \u001b[0;34m\"%s\"\u001b[0m\u001b[0;34m\u001b[0m\u001b[0;34m\u001b[0m\u001b[0m\n\u001b[0;32m--> 167\u001b[0;31m             raise OperationFailure(msg % errmsg, code, response,\n\u001b[0m\u001b[1;32m    168\u001b[0m                                    max_wire_version)\n\u001b[1;32m    169\u001b[0m \u001b[0;34m\u001b[0m\u001b[0m\n",
      "\u001b[0;31mOperationFailure\u001b[0m: unknown group operator '$gt', full error: {'ok': 0.0, 'errmsg': \"unknown group operator '$gt'\", 'code': 15952, 'codeName': 'Location15952'}"
     ]
    }
   ],
   "source": [
    "cur = collection.aggregate(\n",
    "    [\n",
    "        {\n",
    "            \"$group\" : {       \n",
    "                \"_id\":\"$channel_title\",\n",
    "                \"avglikes\": { \"$avg\": \"$likes\" },\n",
    "                \"avglikes\": {\"$gt\" :100000}\n",
    "            }\n",
    "        }\n",
    "    ]\n",
    ")\n",
    "list(cur)"
   ]
  },
  {
   "cell_type": "code",
   "execution_count": 93,
   "metadata": {},
   "outputs": [
    {
     "ename": "AttributeError",
     "evalue": "'dict' object has no attribute 'find_one'",
     "output_type": "error",
     "traceback": [
      "\u001b[0;31m---------------------------------------------------------------------------\u001b[0m",
      "\u001b[0;31mAttributeError\u001b[0m                            Traceback (most recent call last)",
      "\u001b[0;32m<ipython-input-93-edeab7bbcd07>\u001b[0m in \u001b[0;36m<module>\u001b[0;34m\u001b[0m\n\u001b[0;32m----> 1\u001b[0;31m \u001b[0mdict\u001b[0m\u001b[0;34m(\u001b[0m\u001b[0mcur\u001b[0m\u001b[0;34m)\u001b[0m\u001b[0;34m.\u001b[0m\u001b[0mfind_one\u001b[0m\u001b[0;34m(\u001b[0m\u001b[0msort\u001b[0m\u001b[0;34m=\u001b[0m\u001b[0;34m[\u001b[0m\u001b[0;34m(\u001b[0m\u001b[0;34m\"avglikes\"\u001b[0m\u001b[0;34m,\u001b[0m \u001b[0mpymongo\u001b[0m\u001b[0;34m.\u001b[0m\u001b[0mDESCENDING\u001b[0m\u001b[0;34m)\u001b[0m\u001b[0;34m]\u001b[0m\u001b[0;34m)\u001b[0m\u001b[0;34m\u001b[0m\u001b[0;34m\u001b[0m\u001b[0m\n\u001b[0m",
      "\u001b[0;31mAttributeError\u001b[0m: 'dict' object has no attribute 'find_one'"
     ]
    }
   ],
   "source": [
    "dict(cur).find_one(sort=[(\"avglikes\", pymongo.DESCENDING)])"
   ]
  },
  {
   "cell_type": "code",
   "execution_count": null,
   "metadata": {},
   "outputs": [],
   "source": []
  }
 ],
 "metadata": {
  "kernelspec": {
   "display_name": "Python 3",
   "language": "python",
   "name": "python3"
  },
  "language_info": {
   "codemirror_mode": {
    "name": "ipython",
    "version": 3
   },
   "file_extension": ".py",
   "mimetype": "text/x-python",
   "name": "python",
   "nbconvert_exporter": "python",
   "pygments_lexer": "ipython3",
   "version": "3.8.6"
  }
 },
 "nbformat": 4,
 "nbformat_minor": 2
}
