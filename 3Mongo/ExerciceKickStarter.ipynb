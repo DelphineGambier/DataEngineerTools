{
 "cells": [
  {
   "cell_type": "markdown",
   "metadata": {},
   "source": [
    "#  Consignes\n",
    "\n",
    "## Description\n",
    "\n",
    "Ouvrir le fichier ks-projects-201801.csv, il recense environ 100 000 projets KickStarter. Intégrer les données directement avec L'API Python dans une base de données Mongo. \n",
    "\n",
    "Il conviendra de bien spécifier manuellement l'ID du document. Pensez aussi à bien formatter le type des données pour profiter des méthodes implémentées par Mongo. L'ensemble de données n'est pas forcément nécessaire, c'est à vous de créer votre modèle de données.\n",
    "\n",
    "## Questions\n",
    "\n",
    "- 1) Récupérer les 5 projets ayant reçu le plus de promesse de dons.\n",
    "- 2) Compter le nombre de projets ayant atteint leur but.\n",
    "- 3) Compter le nombre de projets pour chaque catégorie.\n",
    "- 4) Compter le nombre de projets français ayant été instanciés avant 2016.\n",
    "- 5) Récupérer les projets américains ayant demandé plus de 200 000 dollars.\n",
    "- 6) Compter le nombre de projet ayant \"Sport\" dans leur nom"
   ]
  },
  {
   "cell_type": "code",
   "execution_count": 17,
   "metadata": {},
   "outputs": [],
   "source": [
    "import pandas as pd\n",
    "import pymongo"
   ]
  },
  {
   "cell_type": "code",
   "execution_count": 18,
   "metadata": {},
   "outputs": [],
   "source": [
    "client = pymongo.MongoClient('mongodb://mongo:27017')\n",
    "database = client['exercices']\n",
    "collection = database['kickstarter']"
   ]
  },
  {
   "cell_type": "code",
   "execution_count": 19,
   "metadata": {},
   "outputs": [
    {
     "name": "stderr",
     "output_type": "stream",
     "text": [
      "/root/.local/share/virtualenvs/code-AFz48Hjb/lib/python3.8/site-packages/IPython/core/interactiveshell.py:3146: DtypeWarning: Columns (6,8,10,12) have mixed types.Specify dtype option on import or set low_memory=False.\n",
      "  has_raised = await self.run_ast_nodes(code_ast.body, cell_name,\n"
     ]
    },
    {
     "data": {
      "text/html": [
       "<div>\n",
       "<style scoped>\n",
       "    .dataframe tbody tr th:only-of-type {\n",
       "        vertical-align: middle;\n",
       "    }\n",
       "\n",
       "    .dataframe tbody tr th {\n",
       "        vertical-align: top;\n",
       "    }\n",
       "\n",
       "    .dataframe thead th {\n",
       "        text-align: right;\n",
       "    }\n",
       "</style>\n",
       "<table border=\"1\" class=\"dataframe\">\n",
       "  <thead>\n",
       "    <tr style=\"text-align: right;\">\n",
       "      <th></th>\n",
       "      <th>ID</th>\n",
       "      <th>name</th>\n",
       "      <th>category</th>\n",
       "      <th>main_category</th>\n",
       "      <th>currency</th>\n",
       "      <th>deadline</th>\n",
       "      <th>goal</th>\n",
       "      <th>launched</th>\n",
       "      <th>pledged</th>\n",
       "      <th>state</th>\n",
       "      <th>backers</th>\n",
       "      <th>country</th>\n",
       "      <th>usd pledged</th>\n",
       "      <th>usd_pledged_real</th>\n",
       "    </tr>\n",
       "  </thead>\n",
       "  <tbody>\n",
       "    <tr>\n",
       "      <th>0</th>\n",
       "      <td>872782264</td>\n",
       "      <td>Scott Cooper's Solo CD \"A Leg Trick\" (Canceled)</td>\n",
       "      <td>Rock</td>\n",
       "      <td>Music</td>\n",
       "      <td>USD</td>\n",
       "      <td>2011-09-16</td>\n",
       "      <td>2000</td>\n",
       "      <td>2011-08-17 06:31:31</td>\n",
       "      <td>1145</td>\n",
       "      <td>canceled</td>\n",
       "      <td>24</td>\n",
       "      <td>US</td>\n",
       "      <td>1145</td>\n",
       "      <td>1145.000000</td>\n",
       "    </tr>\n",
       "    <tr>\n",
       "      <th>1</th>\n",
       "      <td>1326492673</td>\n",
       "      <td>Ohceola jewelry</td>\n",
       "      <td>Fashion</td>\n",
       "      <td>Fashion</td>\n",
       "      <td>USD</td>\n",
       "      <td>2012-08-22</td>\n",
       "      <td>18000</td>\n",
       "      <td>2012-07-23 20:46:48</td>\n",
       "      <td>1851</td>\n",
       "      <td>failed</td>\n",
       "      <td>28</td>\n",
       "      <td>US</td>\n",
       "      <td>1851</td>\n",
       "      <td>1851.000000</td>\n",
       "    </tr>\n",
       "    <tr>\n",
       "      <th>2</th>\n",
       "      <td>1688410639</td>\n",
       "      <td>Sluff Off &amp; Harald: Two latest EGGs are Classi...</td>\n",
       "      <td>Tabletop Games</td>\n",
       "      <td>Games</td>\n",
       "      <td>USD</td>\n",
       "      <td>2016-07-19</td>\n",
       "      <td>2000</td>\n",
       "      <td>2016-07-01 21:55:54</td>\n",
       "      <td>7534</td>\n",
       "      <td>successful</td>\n",
       "      <td>254</td>\n",
       "      <td>US</td>\n",
       "      <td>3796</td>\n",
       "      <td>7534.000000</td>\n",
       "    </tr>\n",
       "    <tr>\n",
       "      <th>3</th>\n",
       "      <td>156812982</td>\n",
       "      <td>SketchPlanner: Create and Plan- all in one bea...</td>\n",
       "      <td>Art Books</td>\n",
       "      <td>Publishing</td>\n",
       "      <td>USD</td>\n",
       "      <td>2017-09-27</td>\n",
       "      <td>13000</td>\n",
       "      <td>2017-08-28 15:47:02</td>\n",
       "      <td>16298</td>\n",
       "      <td>successful</td>\n",
       "      <td>367</td>\n",
       "      <td>US</td>\n",
       "      <td>2670</td>\n",
       "      <td>16298.000000</td>\n",
       "    </tr>\n",
       "    <tr>\n",
       "      <th>4</th>\n",
       "      <td>1835968190</td>\n",
       "      <td>Proven sales with custom motorcycle accessories</td>\n",
       "      <td>Sculpture</td>\n",
       "      <td>Art</td>\n",
       "      <td>CAD</td>\n",
       "      <td>2016-02-24</td>\n",
       "      <td>5000</td>\n",
       "      <td>2016-01-25 17:37:10</td>\n",
       "      <td>1</td>\n",
       "      <td>failed</td>\n",
       "      <td>1</td>\n",
       "      <td>CA</td>\n",
       "      <td>0.708148</td>\n",
       "      <td>0.738225</td>\n",
       "    </tr>\n",
       "  </tbody>\n",
       "</table>\n",
       "</div>"
      ],
      "text/plain": [
       "           ID                                               name  \\\n",
       "0   872782264    Scott Cooper's Solo CD \"A Leg Trick\" (Canceled)   \n",
       "1  1326492673                                    Ohceola jewelry   \n",
       "2  1688410639  Sluff Off & Harald: Two latest EGGs are Classi...   \n",
       "3   156812982  SketchPlanner: Create and Plan- all in one bea...   \n",
       "4  1835968190    Proven sales with custom motorcycle accessories   \n",
       "\n",
       "         category main_category currency    deadline   goal  \\\n",
       "0            Rock         Music      USD  2011-09-16   2000   \n",
       "1         Fashion       Fashion      USD  2012-08-22  18000   \n",
       "2  Tabletop Games         Games      USD  2016-07-19   2000   \n",
       "3       Art Books    Publishing      USD  2017-09-27  13000   \n",
       "4       Sculpture           Art      CAD  2016-02-24   5000   \n",
       "\n",
       "              launched pledged       state backers country usd pledged  \\\n",
       "0  2011-08-17 06:31:31    1145    canceled      24      US        1145   \n",
       "1  2012-07-23 20:46:48    1851      failed      28      US        1851   \n",
       "2  2016-07-01 21:55:54    7534  successful     254      US        3796   \n",
       "3  2017-08-28 15:47:02   16298  successful     367      US        2670   \n",
       "4  2016-01-25 17:37:10       1      failed       1      CA    0.708148   \n",
       "\n",
       "   usd_pledged_real  \n",
       "0       1145.000000  \n",
       "1       1851.000000  \n",
       "2       7534.000000  \n",
       "3      16298.000000  \n",
       "4          0.738225  "
      ]
     },
     "execution_count": 19,
     "metadata": {},
     "output_type": "execute_result"
    }
   ],
   "source": [
    "df_ks = pd.read_csv(\"./data/ks-projects-201801-sample.csv\")\n",
    "df_ks.head()"
   ]
  },
  {
   "cell_type": "markdown",
   "metadata": {},
   "source": [
    "Ce warning intervient lorsque pandas n'arrive pas à inférer le type de données. Il est sympa il précise les colones 6,8,10,12. "
   ]
  },
  {
   "cell_type": "code",
   "execution_count": 4,
   "metadata": {},
   "outputs": [
    {
     "data": {
      "text/plain": [
       "Index(['goal', 'pledged', 'backers', 'usd pledged'], dtype='object')"
      ]
     },
     "execution_count": 4,
     "metadata": {},
     "output_type": "execute_result"
    }
   ],
   "source": [
    "df_ks.columns[[6,8,10,12]]"
   ]
  },
  {
   "cell_type": "markdown",
   "metadata": {},
   "source": [
    "## Question 0"
   ]
  },
  {
   "cell_type": "markdown",
   "metadata": {},
   "source": [
    "### Netoyer les données"
   ]
  },
  {
   "cell_type": "code",
   "execution_count": 20,
   "metadata": {},
   "outputs": [
    {
     "name": "stdout",
     "output_type": "stream",
     "text": [
      "<class 'pandas.core.frame.DataFrame'>\n",
      "RangeIndex: 150000 entries, 0 to 149999\n",
      "Data columns (total 14 columns):\n",
      " #   Column            Non-Null Count   Dtype  \n",
      "---  ------            --------------   -----  \n",
      " 0   ID                150000 non-null  int64  \n",
      " 1   name              149998 non-null  object \n",
      " 2   category          150000 non-null  object \n",
      " 3   main_category     150000 non-null  object \n",
      " 4   currency          150000 non-null  object \n",
      " 5   deadline          150000 non-null  object \n",
      " 6   goal              150000 non-null  object \n",
      " 7   launched          150000 non-null  object \n",
      " 8   pledged           150000 non-null  object \n",
      " 9   state             150000 non-null  object \n",
      " 10  backers           150000 non-null  object \n",
      " 11  country           150000 non-null  object \n",
      " 12  usd pledged       148518 non-null  object \n",
      " 13  usd_pledged_real  150000 non-null  float64\n",
      "dtypes: float64(1), int64(1), object(12)\n",
      "memory usage: 16.0+ MB\n"
     ]
    }
   ],
   "source": [
    "df_ks.info()"
   ]
  },
  {
   "cell_type": "code",
   "execution_count": 21,
   "metadata": {},
   "outputs": [
    {
     "name": "stdout",
     "output_type": "stream",
     "text": [
      "<class 'pandas.core.frame.DataFrame'>\n",
      "RangeIndex: 150000 entries, 0 to 149999\n",
      "Data columns (total 14 columns):\n",
      " #   Column            Non-Null Count   Dtype  \n",
      "---  ------            --------------   -----  \n",
      " 0   ID                150000 non-null  Int64  \n",
      " 1   name              149998 non-null  string \n",
      " 2   category          150000 non-null  string \n",
      " 3   main_category     150000 non-null  string \n",
      " 4   currency          150000 non-null  string \n",
      " 5   deadline          150000 non-null  string \n",
      " 6   goal              150000 non-null  object \n",
      " 7   launched          150000 non-null  string \n",
      " 8   pledged           150000 non-null  object \n",
      " 9   state             150000 non-null  string \n",
      " 10  backers           150000 non-null  object \n",
      " 11  country           150000 non-null  string \n",
      " 12  usd pledged       148518 non-null  object \n",
      " 13  usd_pledged_real  150000 non-null  float64\n",
      "dtypes: Int64(1), float64(1), object(4), string(8)\n",
      "memory usage: 16.2+ MB\n"
     ]
    }
   ],
   "source": [
    "#df_ks=df_ks.astype({'goal': 'float64'})\n",
    "#df_ks=df_ks.astype({'pledged': 'float64'})\n",
    "#df_ks=df_ks.astype({'backers': 'float64'})\n",
    "#df_ks=df_ks.astype({'usd pledged': 'float64'})\n",
    "df_ks=df_ks.convert_dtypes()\n",
    "df_ks.info()"
   ]
  },
  {
   "cell_type": "markdown",
   "metadata": {
    "slideshow": {
     "slide_type": "slide"
    }
   },
   "source": [
    "### Importer les données"
   ]
  },
  {
   "cell_type": "code",
   "execution_count": 22,
   "metadata": {},
   "outputs": [
    {
     "data": {
      "text/plain": [
       "<pymongo.results.InsertManyResult at 0x7f70e424d700>"
      ]
     },
     "execution_count": 22,
     "metadata": {},
     "output_type": "execute_result"
    }
   ],
   "source": [
    "import json\n",
    "data_json = json.loads(df_ks.to_json(orient='records'))\n",
    "collection.insert_many(data_json)"
   ]
  },
  {
   "cell_type": "markdown",
   "metadata": {},
   "source": [
    "## Question 1"
   ]
  },
  {
   "cell_type": "code",
   "execution_count": 27,
   "metadata": {},
   "outputs": [],
   "source": [
    "None"
   ]
  },
  {
   "cell_type": "markdown",
   "metadata": {},
   "source": [
    "## Question 2  "
   ]
  },
  {
   "cell_type": "code",
   "execution_count": 24,
   "metadata": {},
   "outputs": [
    {
     "data": {
      "text/plain": [
       "106080"
      ]
     },
     "execution_count": 24,
     "metadata": {},
     "output_type": "execute_result"
    }
   ],
   "source": [
    "liste = []\n",
    "for i in collection.find({\"state\": \"successful\"}) :\n",
    "    liste.append(i)\n",
    "len(liste)\n"
   ]
  },
  {
   "cell_type": "markdown",
   "metadata": {},
   "source": [
    "## Question 3"
   ]
  },
  {
   "cell_type": "code",
   "execution_count": 25,
   "metadata": {},
   "outputs": [
    {
     "name": "stdout",
     "output_type": "stream",
     "text": [
      "['3D Printing', 'Academic', 'Accessories', 'Action', 'Animals', 'Animation', 'Anthologies', 'Apparel', 'Apps', 'Architecture', 'Art', 'Art Books', 'Audio', 'Bacon', 'Blues', 'Calendars', 'Camera Equipment', 'Candles', 'Ceramics', \"Children's Books\", 'Childrenswear', 'Chiptune', 'Civic Design', 'Classical Music', 'Comedy', 'Comic Books', 'Comics', 'Community Gardens', 'Conceptual Art', 'Cookbooks', 'Country & Folk', 'Couture', 'Crafts', 'Crochet', 'DIY', 'DIY Electronics', 'Dance', 'Design', 'Digital Art', 'Documentary', 'Drama', 'Drinks', 'Electronic Music', 'Embroidery', 'Events', 'Experimental', 'Fabrication Tools', 'Faith', 'Family', 'Fantasy', \"Farmer's Markets\", 'Farms', 'Fashion', 'Festivals', 'Fiction', 'Film & Video', 'Fine Art', 'Flight', 'Food', 'Food Trucks', 'Footwear', 'Gadgets', 'Games', 'Gaming Hardware', 'Glass', 'Grace is Leaving', 'Graphic Design', 'Graphic Novels', 'Hardware', 'Hip-Hop', 'Horror', 'Illustration', 'Immersive', 'Indie Rock', 'Installations', 'Interactive Design', 'Jazz', 'Jewelry', 'Journalism', 'Kids', 'Knitting', 'Latin', 'Letterpress', 'Literary Journals', 'Literary Spaces', 'Live Games', 'Makerspaces', 'Metal', 'Mixed Media', 'Mobile Games', 'Movie Theaters', 'Music', 'Music Videos', 'Musical', 'Narrative Film', 'Nature', 'Nonfiction', 'Painting', 'People', 'Performance Art', 'Performances', 'Periodicals', 'Pet Fashion', 'Photo', 'Photobooks', 'Photography', 'Places', 'Playing Cards', 'Plays', 'Poetry', 'Pop', 'Pottery', 'Print', 'Printing', 'Product Design', 'Public Art', 'Publishing', 'Punk', 'Puzzles', 'Quilts', 'R&B', 'Radio & Podcasts', 'Ready-to-wear', 'Residencies', 'Restaurants', 'Robots', 'Rock', 'Romance', 'Science Fiction', 'Sculpture', 'Shorts', 'Small Batch', 'Software', 'Sound', 'Space Exploration', 'Spaces', 'Stationery', 'Tabletop Games', 'Taxidermy', 'Technology', 'Television', 'Textiles', 'Theater', 'Thrillers', 'Translations', 'Typography', 'Vegan', 'Video', 'Video Art', 'Video Games', 'Wearables', 'Weaving', 'Web', 'Webcomics', 'Webseries', 'Woodworking', 'Workshops', 'World Music', 'Young Adult', 'Zines']\n"
     ]
    }
   ],
   "source": [
    "categories = collection.distinct(\"category\")\n",
    "print(categories)"
   ]
  },
  {
   "cell_type": "code",
   "execution_count": 26,
   "metadata": {},
   "outputs": [
    {
     "name": "stderr",
     "output_type": "stream",
     "text": [
      "<ipython-input-26-405a1cc3077a>:2: DeprecationWarning: count is deprecated. Use Collection.count_documents instead.\n",
      "  print(i, \" : \", collection.find( { \"category\": i } ).count())\n"
     ]
    },
    {
     "name": "stdout",
     "output_type": "stream",
     "text": [
      "3D Printing  :  542\n",
      "Academic  :  734\n",
      "Accessories  :  2408\n",
      "Action  :  564\n",
      "Animals  :  194\n",
      "Animation  :  2034\n",
      "Anthologies  :  600\n",
      "Apparel  :  5654\n",
      "Apps  :  5070\n",
      "Architecture  :  600\n",
      "Art  :  6716\n",
      "Art Books  :  2130\n",
      "Audio  :  328\n",
      "Bacon  :  156\n",
      "Blues  :  226\n",
      "Calendars  :  224\n",
      "Camera Equipment  :  330\n",
      "Candles  :  336\n",
      "Ceramics  :  256\n",
      "Children's Books  :  5372\n",
      "Childrenswear  :  384\n",
      "Chiptune  :  20\n",
      "Civic Design  :  260\n",
      "Classical Music  :  2128\n",
      "Comedy  :  1846\n",
      "Comic Books  :  2064\n",
      "Comics  :  3862\n",
      "Community Gardens  :  230\n",
      "Conceptual Art  :  786\n",
      "Cookbooks  :  434\n",
      "Country & Folk  :  3580\n",
      "Couture  :  216\n",
      "Crafts  :  3668\n",
      "Crochet  :  122\n",
      "DIY  :  960\n",
      "DIY Electronics  :  716\n",
      "Dance  :  1802\n",
      "Design  :  3282\n",
      "Digital Art  :  1048\n",
      "Documentary  :  12996\n",
      "Drama  :  1742\n",
      "Drinks  :  1990\n",
      "Electronic Music  :  1716\n",
      "Embroidery  :  98\n",
      "Events  :  644\n",
      "Experimental  :  714\n",
      "Fabrication Tools  :  192\n",
      "Faith  :  878\n",
      "Family  :  260\n",
      "Fantasy  :  264\n",
      "Farmer's Markets  :  350\n",
      "Farms  :  964\n",
      "Fashion  :  6758\n",
      "Festivals  :  626\n",
      "Fiction  :  7406\n",
      "Film & Video  :  8006\n",
      "Fine Art  :  582\n",
      "Flight  :  316\n",
      "Food  :  9224\n",
      "Food Trucks  :  1374\n",
      "Footwear  :  758\n",
      "Gadgets  :  2420\n",
      "Games  :  2662\n",
      "Gaming Hardware  :  356\n",
      "Glass  :  102\n",
      "Grace is Leaving  :  2\n",
      "Graphic Design  :  1530\n",
      "Graphic Novels  :  1404\n",
      "Hardware  :  2862\n",
      "Hip-Hop  :  3110\n",
      "Horror  :  1050\n",
      "Illustration  :  2526\n",
      "Immersive  :  262\n",
      "Indie Rock  :  4384\n",
      "Installations  :  356\n",
      "Interactive Design  :  292\n",
      "Jazz  :  1466\n",
      "Jewelry  :  944\n",
      "Journalism  :  1344\n",
      "Kids  :  218\n",
      "Knitting  :  156\n",
      "Latin  :  126\n",
      "Letterpress  :  48\n",
      "Literary Journals  :  236\n",
      "Literary Spaces  :  20\n",
      "Live Games  :  788\n",
      "Makerspaces  :  182\n",
      "Metal  :  548\n",
      "Mixed Media  :  2236\n",
      "Mobile Games  :  1300\n",
      "Movie Theaters  :  180\n",
      "Music  :  12458\n",
      "Music Videos  :  598\n",
      "Musical  :  734\n",
      "Narrative Film  :  4198\n",
      "Nature  :  438\n",
      "Nonfiction  :  6780\n",
      "Painting  :  2576\n",
      "People  :  880\n",
      "Performance Art  :  1710\n",
      "Performances  :  828\n",
      "Periodicals  :  1034\n",
      "Pet Fashion  :  102\n",
      "Photo  :  116\n",
      "Photobooks  :  1216\n",
      "Photography  :  4478\n",
      "Places  :  566\n",
      "Playing Cards  :  1926\n",
      "Plays  :  1078\n",
      "Poetry  :  1064\n",
      "Pop  :  2604\n",
      "Pottery  :  80\n",
      "Print  :  576\n",
      "Printing  :  166\n",
      "Product Design  :  17772\n",
      "Public Art  :  2496\n",
      "Publishing  :  4664\n",
      "Punk  :  254\n",
      "Puzzles  :  190\n",
      "Quilts  :  64\n",
      "R&B  :  344\n",
      "Radio & Podcasts  :  698\n",
      "Ready-to-wear  :  664\n",
      "Residencies  :  64\n",
      "Restaurants  :  2178\n",
      "Robots  :  474\n",
      "Rock  :  5414\n",
      "Romance  :  148\n",
      "Science Fiction  :  548\n",
      "Sculpture  :  1474\n",
      "Shorts  :  9714\n",
      "Small Batch  :  1402\n",
      "Software  :  2388\n",
      "Sound  :  510\n",
      "Space Exploration  :  274\n",
      "Spaces  :  662\n",
      "Stationery  :  180\n",
      "Tabletop Games  :  11162\n",
      "Taxidermy  :  14\n",
      "Technology  :  5380\n",
      "Television  :  802\n",
      "Textiles  :  210\n",
      "Theater  :  5572\n",
      "Thrillers  :  604\n",
      "Translations  :  152\n",
      "Typography  :  88\n",
      "Vegan  :  458\n",
      "Video  :  294\n",
      "Video Art  :  130\n",
      "Video Games  :  9598\n",
      "Wearables  :  1016\n",
      "Weaving  :  76\n",
      "Web  :  4034\n",
      "Webcomics  :  518\n",
      "Webseries  :  4632\n",
      "Woodworking  :  866\n",
      "Workshops  :  118\n",
      "World Music  :  1700\n",
      "Young Adult  :  656\n",
      "Zines  :  288\n"
     ]
    }
   ],
   "source": [
    "for i in categories :\n",
    "    print(i, \" : \", collection.find( { \"category\": i } ).count())"
   ]
  },
  {
   "cell_type": "markdown",
   "metadata": {},
   "source": [
    "## Question 4"
   ]
  },
  {
   "cell_type": "code",
   "execution_count": null,
   "metadata": {},
   "outputs": [],
   "source": []
  },
  {
   "cell_type": "markdown",
   "metadata": {},
   "source": [
    "## Question 5"
   ]
  },
  {
   "cell_type": "code",
   "execution_count": null,
   "metadata": {},
   "outputs": [],
   "source": []
  },
  {
   "cell_type": "markdown",
   "metadata": {},
   "source": [
    "## Question 6 "
   ]
  },
  {
   "cell_type": "code",
   "execution_count": 29,
   "metadata": {},
   "outputs": [
    {
     "data": {
      "text/plain": [
       "646"
      ]
     },
     "execution_count": 29,
     "metadata": {},
     "output_type": "execute_result"
    }
   ],
   "source": [
    "cur=collection.find({\"name\" : {'$regex' : \"Sport\" }})\n",
    "len(list(cur))"
   ]
  },
  {
   "cell_type": "code",
   "execution_count": null,
   "metadata": {},
   "outputs": [],
   "source": []
  }
 ],
 "metadata": {
  "kernelspec": {
   "display_name": "Python 3",
   "language": "python",
   "name": "python3"
  },
  "language_info": {
   "codemirror_mode": {
    "name": "ipython",
    "version": 3
   },
   "file_extension": ".py",
   "mimetype": "text/x-python",
   "name": "python",
   "nbconvert_exporter": "python",
   "pygments_lexer": "ipython3",
   "version": "3.8.6"
  }
 },
 "nbformat": 4,
 "nbformat_minor": 2
}
